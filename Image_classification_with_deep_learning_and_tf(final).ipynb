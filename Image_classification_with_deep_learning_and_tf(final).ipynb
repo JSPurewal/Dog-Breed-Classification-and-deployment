{
  "nbformat": 4,
  "nbformat_minor": 0,
  "metadata": {
    "colab": {
      "name": "Image classification with deep learning and tf(final).ipynb",
      "provenance": []
    },
    "kernelspec": {
      "name": "python3",
      "display_name": "Python 3"
    },
    "language_info": {
      "name": "python"
    }
  },
  "cells": [
    {
      "cell_type": "code",
      "source": [
        "!unzip dog_images.zip"
      ],
      "metadata": {
        "colab": {
          "base_uri": "https://localhost:8080/"
        },
        "id": "oRHzfn0I0pfB",
        "outputId": "9f0401ca-25fa-4dfe-feab-99d0b7722e29"
      },
      "execution_count": 1,
      "outputs": [
        {
          "output_type": "stream",
          "name": "stdout",
          "text": [
            "Archive:  dog_images.zip\n",
            "   creating: images/\n",
            "  inflating: images/.DS_Store        \n",
            "   creating: images/beagle/\n",
            "  inflating: images/beagle/n02088364_12397.jpg  \n",
            "  inflating: images/beagle/n02088364_14095.jpg  \n",
            "  inflating: images/beagle/n02088364_8871.jpg  \n",
            "  inflating: images/beagle/n02088364_12816.jpg  \n",
            "  inflating: images/beagle/n02088364_6109.jpg  \n",
            "  inflating: images/beagle/n02088364_1128.jpg  \n",
            "  inflating: images/beagle/n02088364_12745.jpg  \n",
            "  inflating: images/beagle/n02088364_17167.jpg  \n",
            "  inflating: images/beagle/n02088364_9825.jpg  \n",
            "  inflating: images/beagle/n02088364_14863.jpg  \n",
            "  inflating: images/beagle/n02088364_16721.jpg  \n",
            "  inflating: images/beagle/n02088364_2019.jpg  \n",
            "  inflating: images/beagle/n02088364_4052.jpg  \n",
            "  inflating: images/beagle/n02088364_16695.jpg  \n",
            "  inflating: images/beagle/n02088364_5826.jpg  \n",
            "  inflating: images/beagle/n02088364_8443.jpg  \n",
            "  inflating: images/beagle/n02088364_14055.jpg  \n",
            "  inflating: images/beagle/n02088364_12154.jpg  \n",
            "  inflating: images/beagle/n02088364_13464.jpg  \n",
            "  inflating: images/beagle/n02088364_17170.jpg  \n",
            "  inflating: images/beagle/n02088364_16508.jpg  \n",
            "  inflating: images/beagle/n02088364_11930.jpg  \n",
            "  inflating: images/beagle/n02088364_14690.jpg  \n",
            "  inflating: images/beagle/n02088364_1507.jpg  \n",
            "  inflating: images/beagle/n02088364_13128.jpg  \n",
            "  inflating: images/beagle/n02088364_12756.jpg  \n",
            "  inflating: images/beagle/n02088364_17766.jpg  \n",
            "  inflating: images/beagle/n02088364_12178.jpg  \n",
            "  inflating: images/beagle/n02088364_16493.jpg  \n",
            "  inflating: images/beagle/.DS_Store  \n",
            "  inflating: images/beagle/n02088364_14079.jpg  \n",
            "  inflating: images/beagle/n02088364_4527.jpg  \n",
            "  inflating: images/beagle/n02088364_11698.jpg  \n",
            "  inflating: images/beagle/n02088364_14911.jpg  \n",
            "  inflating: images/beagle/n02088364_2143.jpg  \n",
            "  inflating: images/beagle/n02088364_6866.jpg  \n",
            "  inflating: images/beagle/n02088364_11458.jpg  \n",
            "  inflating: images/beagle/n02088364_12794.jpg  \n",
            "  inflating: images/beagle/n02088364_16519.jpg  \n",
            "  inflating: images/beagle/n02088364_5572.jpg  \n",
            "  inflating: images/beagle/n02088364_10354.jpg  \n",
            "  inflating: images/beagle/n02088364_4493.jpg  \n",
            "  inflating: images/beagle/n02088364_13477.jpg  \n",
            "  inflating: images/beagle/n02088364_12972.jpg  \n",
            "  inflating: images/beagle/n02088364_15370.jpg  \n",
            "  inflating: images/beagle/n02088364_10585.jpg  \n",
            "  inflating: images/beagle/n02088364_4281.jpg  \n",
            "  inflating: images/beagle/n02088364_876.jpg  \n",
            "  inflating: images/beagle/n02088364_12973.jpg  \n",
            "  inflating: images/beagle/n02088364_11711.jpg  \n",
            "  inflating: images/beagle/n02088364_17406.jpg  \n",
            "  inflating: images/beagle/n02088364_6547.jpg  \n",
            "  inflating: images/beagle/n02088364_959.jpg  \n",
            "  inflating: images/beagle/n02088364_13028.jpg  \n",
            "  inflating: images/beagle/n02088364_17689.jpg  \n",
            "  inflating: images/beagle/n02088364_14394.jpg  \n",
            "  inflating: images/beagle/n02088364_14431.jpg  \n",
            "  inflating: images/beagle/n02088364_13809.jpg  \n",
            "  inflating: images/beagle/n02088364_17474.jpg  \n",
            "  inflating: images/beagle/n02088364_769.jpg  \n",
            "  inflating: images/beagle/n02088364_14369.jpg  \n",
            "  inflating: images/beagle/n02088364_13214.jpg  \n",
            "  inflating: images/beagle/n02088364_13572.jpg  \n",
            "  inflating: images/beagle/n02088364_15315.jpg  \n",
            "  inflating: images/beagle/n02088364_14779.jpg  \n",
            "  inflating: images/beagle/n02088364_17258.jpg  \n",
            "  inflating: images/beagle/n02088364_12334.jpg  \n",
            "  inflating: images/beagle/n02088364_16635.jpg  \n",
            "  inflating: images/beagle/n02088364_13981.jpg  \n",
            "  inflating: images/beagle/n02088364_14220.jpg  \n",
            "  inflating: images/beagle/n02088364_3171.jpg  \n",
            "  inflating: images/beagle/n02088364_5716.jpg  \n",
            "  inflating: images/beagle/n02088364_17473.jpg  \n",
            "  inflating: images/beagle/n02088364_17671.jpg  \n",
            "  inflating: images/beagle/n02088364_10296.jpg  \n",
            "  inflating: images/beagle/n02088364_11836.jpg  \n",
            "  inflating: images/beagle/n02088364_2652.jpg  \n",
            "  inflating: images/beagle/n02088364_15305.jpg  \n",
            "  inflating: images/beagle/n02088364_4237.jpg  \n",
            "  inflating: images/beagle/n02088364_427.jpg  \n",
            "  inflating: images/beagle/n02088364_10731.jpg  \n",
            "  inflating: images/beagle/n02088364_17314.jpg  \n",
            "  inflating: images/beagle/n02088364_9895.jpg  \n",
            "  inflating: images/beagle/n02088364_12291.jpg  \n",
            "  inflating: images/beagle/n02088364_16791.jpg  \n",
            "  inflating: images/beagle/n02088364_13428.jpg  \n",
            "  inflating: images/beagle/n02088364_12124.jpg  \n",
            "  inflating: images/beagle/n02088364_15111.jpg  \n",
            "  inflating: images/beagle/n02088364_3758.jpg  \n",
            "  inflating: images/beagle/n02088364_17935.jpg  \n",
            "  inflating: images/beagle/n02088364_12440.jpg  \n",
            "  inflating: images/beagle/n02088364_7927.jpg  \n",
            "  inflating: images/beagle/n02088364_13944.jpg  \n",
            "  inflating: images/beagle/n02088364_12131.jpg  \n",
            "  inflating: images/beagle/n02088364_10108.jpg  \n",
            "  inflating: images/beagle/n02088364_14613.jpg  \n",
            "  inflating: images/beagle/n02088364_5090.jpg  \n",
            "  inflating: images/beagle/n02088364_2502.jpg  \n",
            "  inflating: images/beagle/n02088364_15082.jpg  \n",
            "  inflating: images/beagle/n02088364_13236.jpg  \n",
            "  inflating: images/beagle/n02088364_15690.jpg  \n",
            "  inflating: images/beagle/n02088364_12869.jpg  \n",
            "  inflating: images/beagle/n02088364_17534.jpg  \n",
            "  inflating: images/beagle/n02088364_2106.jpg  \n",
            "  inflating: images/beagle/n02088364_14968.jpg  \n",
            "  inflating: images/beagle/n02088364_16165.jpg  \n",
            "  inflating: images/beagle/n02088364_12303.jpg  \n",
            "  inflating: images/beagle/n02088364_2661.jpg  \n",
            "  inflating: images/beagle/n02088364_11391.jpg  \n",
            "  inflating: images/beagle/n02088364_6611.jpg  \n",
            "  inflating: images/beagle/n02088364_12920.jpg  \n",
            "  inflating: images/beagle/n02088364_9318.jpg  \n",
            "  inflating: images/beagle/n02088364_12713.jpg  \n",
            "  inflating: images/beagle/n02088364_16207.jpg  \n",
            "  inflating: images/beagle/n02088364_13627.jpg  \n",
            "  inflating: images/beagle/n02088364_16985.jpg  \n",
            "  inflating: images/beagle/n02088364_16588.jpg  \n",
            "  inflating: images/beagle/n02088364_9520.jpg  \n",
            "  inflating: images/beagle/n02088364_15877.jpg  \n",
            "  inflating: images/beagle/n02088364_11147.jpg  \n",
            "  inflating: images/beagle/n02088364_12102.jpg  \n",
            "  inflating: images/beagle/n02088364_12710.jpg  \n",
            "  inflating: images/beagle/n02088364_16210.jpg  \n",
            "  inflating: images/beagle/n02088364_11231.jpg  \n",
            "  inflating: images/beagle/n02088364_13630.jpg  \n",
            "  inflating: images/beagle/n02088364_3752.jpg  \n",
            "  inflating: images/beagle/n02088364_18403.jpg  \n",
            "  inflating: images/beagle/n02088364_8820.jpg  \n",
            "  inflating: images/beagle/n02088364_639.jpg  \n",
            "  inflating: images/beagle/n02088364_1384.jpg  \n",
            "  inflating: images/beagle/n02088364_2840.jpg  \n",
            "  inflating: images/beagle/n02088364_7247.jpg  \n",
            "  inflating: images/beagle/n02088364_8612.jpg  \n",
            "  inflating: images/beagle/n02088364_9849.jpg  \n",
            "  inflating: images/beagle/n02088364_9652.jpg  \n",
            "  inflating: images/beagle/n02088364_8572.jpg  \n",
            "  inflating: images/beagle/n02088364_17479.jpg  \n",
            "  inflating: images/beagle/n02088364_9650.jpg  \n",
            "  inflating: images/beagle/n02088364_6211.jpg  \n",
            "  inflating: images/beagle/n02088364_4823.jpg  \n",
            "  inflating: images/beagle/n02088364_15093.jpg  \n",
            "  inflating: images/beagle/n02088364_14548.jpg  \n",
            "  inflating: images/beagle/n02088364_17294.jpg  \n",
            "  inflating: images/beagle/n02088364_161.jpg  \n",
            "  inflating: images/beagle/n02088364_11828.jpg  \n",
            "  inflating: images/beagle/n02088364_17530.jpg  \n",
            "  inflating: images/beagle/n02088364_6358.jpg  \n",
            "  inflating: images/beagle/n02088364_5123.jpg  \n",
            "  inflating: images/beagle/n02088364_2499.jpg  \n",
            "  inflating: images/beagle/n02088364_5282.jpg  \n",
            "  inflating: images/beagle/n02088364_7324.jpg  \n",
            "  inflating: images/beagle/n02088364_15036.jpg  \n",
            "  inflating: images/beagle/n02088364_13484.jpg  \n",
            "  inflating: images/beagle/n02088364_15787.jpg  \n",
            "  inflating: images/beagle/n02088364_4879.jpg  \n",
            "  inflating: images/beagle/n02088364_2415.jpg  \n",
            "  inflating: images/beagle/n02088364_4070.jpg  \n",
            "  inflating: images/beagle/n02088364_16339.jpg  \n",
            "  inflating: images/beagle/n02088364_10947.jpg  \n",
            "  inflating: images/beagle/n02088364_7784.jpg  \n",
            "  inflating: images/beagle/n02088364_852.jpg  \n",
            "  inflating: images/beagle/n02088364_16502.jpg  \n",
            "  inflating: images/beagle/n02088364_13478.jpg  \n",
            "  inflating: images/beagle/n02088364_11509.jpg  \n",
            "  inflating: images/beagle/n02088364_6089.jpg  \n",
            "  inflating: images/beagle/n02088364_8477.jpg  \n",
            "  inflating: images/beagle/n02088364_10575.jpg  \n",
            "  inflating: images/beagle/n02088364_5147.jpg  \n",
            "  inflating: images/beagle/n02088364_16689.jpg  \n",
            "  inflating: images/beagle/n02088364_10206.jpg  \n",
            "  inflating: images/beagle/n02088364_12405.jpg  \n",
            "  inflating: images/beagle/n02088364_11130.jpg  \n",
            "  inflating: images/beagle/n02088364_16065.jpg  \n",
            "  inflating: images/beagle/n02088364_12213.jpg  \n",
            "  inflating: images/beagle/n02088364_10362.jpg  \n",
            "  inflating: images/beagle/n02088364_14892.jpg  \n",
            "  inflating: images/beagle/n02088364_14702.jpg  \n",
            "  inflating: images/beagle/n02088364_129.jpg  \n",
            "  inflating: images/beagle/n02088364_13050.jpg  \n",
            "  inflating: images/beagle/n02088364_10798.jpg  \n",
            "  inflating: images/beagle/n02088364_2360.jpg  \n",
            "  inflating: images/beagle/n02088364_5427.jpg  \n",
            "  inflating: images/beagle/n02088364_2566.jpg  \n",
            "  inflating: images/beagle/n02088364_2572.jpg  \n",
            "  inflating: images/beagle/n02088364_4473.jpg  \n",
            "  inflating: images/beagle/n02088364_16060.jpg  \n",
            "  inflating: images/beagle/n02088364_14663.jpg  \n",
            "  inflating: images/beagle/n02088364_16704.jpg  \n",
            "  inflating: images/beagle/n02088364_2000.jpg  \n",
            "  inflating: images/beagle/n02088364_5784.jpg  \n",
            "  inflating: images/beagle/n02088364_8713.jpg  \n",
            "  inflating: images/beagle/n02088364_11136.jpg  \n",
            "  inflating: images/beagle/n02088364_16881.jpg  \n",
            "  inflating: images/beagle/n02088364_17553.jpg  \n",
            "  inflating: images/beagle/n02088364_4706.jpg  \n",
            "  inflating: images/beagle/n02088364_13682.jpg  \n",
            "   creating: images/doberman/\n",
            "  inflating: images/doberman/n02107142_7731.jpg  \n",
            "  inflating: images/doberman/n02107142_3741.jpg  \n",
            "  inflating: images/doberman/n02107142_3033.jpg  \n",
            "  inflating: images/doberman/n02107142_3621.jpg  \n",
            "  inflating: images/doberman/n02107142_971.jpg  \n",
            "  inflating: images/doberman/n02107142_4013.jpg  \n",
            "  inflating: images/doberman/n02107142_3556.jpg  \n",
            "  inflating: images/doberman/n02107142_12488.jpg  \n",
            "  inflating: images/doberman/n02107142_385.jpg  \n",
            "  inflating: images/doberman/n02107142_9090.jpg  \n",
            "  inflating: images/doberman/n02107142_4763.jpg  \n",
            "  inflating: images/doberman/n02107142_34.jpg  \n",
            "  inflating: images/doberman/n02107142_5284.jpg  \n",
            "  inflating: images/doberman/n02107142_16217.jpg  \n",
            "  inflating: images/doberman/n02107142_17450.jpg  \n",
            "  inflating: images/doberman/n02107142_21.jpg  \n",
            "  inflating: images/doberman/n02107142_6439.jpg  \n",
            "  inflating: images/doberman/n02107142_3227.jpg  \n",
            "  inflating: images/doberman/n02107142_8399.jpg  \n",
            "  inflating: images/doberman/n02107142_1193.jpg  \n",
            "  inflating: images/doberman/n02107142_16400.jpg  \n",
            "  inflating: images/doberman/n02107142_4148.jpg  \n",
            "  inflating: images/doberman/n02107142_13356.jpg  \n",
            "  inflating: images/doberman/.DS_Store  \n",
            "  inflating: images/doberman/n02107142_11757.jpg  \n",
            "  inflating: images/doberman/n02107142_208.jpg  \n",
            "  inflating: images/doberman/n02107142_11226.jpg  \n",
            "  inflating: images/doberman/n02107142_30.jpg  \n",
            "  inflating: images/doberman/n02107142_16429.jpg  \n",
            "  inflating: images/doberman/n02107142_10070.jpg  \n",
            "  inflating: images/doberman/n02107142_8834.jpg  \n",
            "  inflating: images/doberman/n02107142_3236.jpg  \n",
            "  inflating: images/doberman/n02107142_15334.jpg  \n",
            "  inflating: images/doberman/n02107142_18610.jpg  \n",
            "  inflating: images/doberman/n02107142_9282.jpg  \n",
            "  inflating: images/doberman/n02107142_4017.jpg  \n",
            "  inflating: images/doberman/n02107142_2314.jpg  \n",
            "  inflating: images/doberman/n02107142_5296.jpg  \n",
            "  inflating: images/doberman/n02107142_18214.jpg  \n",
            "  inflating: images/doberman/n02107142_12739.jpg  \n",
            "  inflating: images/doberman/n02107142_17899.jpg  \n",
            "  inflating: images/doberman/n02107142_12076.jpg  \n",
            "  inflating: images/doberman/n02107142_790.jpg  \n",
            "  inflating: images/doberman/n02107142_18413.jpg  \n",
            "  inflating: images/doberman/n02107142_814.jpg  \n",
            "  inflating: images/doberman/n02107142_11493.jpg  \n",
            "  inflating: images/doberman/n02107142_4663.jpg  \n",
            "  inflating: images/doberman/n02107142_278.jpg  \n",
            "  inflating: images/doberman/n02107142_2213.jpg  \n",
            "  inflating: images/doberman/n02107142_13483.jpg  \n",
            "  inflating: images/doberman/n02107142_1901.jpg  \n",
            "  inflating: images/doberman/n02107142_16316.jpg  \n",
            "  inflating: images/doberman/n02107142_7237.jpg  \n",
            "  inflating: images/doberman/n02107142_15810.jpg  \n",
            "  inflating: images/doberman/n02107142_9597.jpg  \n",
            "  inflating: images/doberman/n02107142_5144.jpg  \n",
            "  inflating: images/doberman/n02107142_3709.jpg  \n",
            "  inflating: images/doberman/n02107142_16512.jpg  \n",
            "  inflating: images/doberman/n02107142_5783.jpg  \n",
            "  inflating: images/doberman/n02107142_4462.jpg  \n",
            "  inflating: images/doberman/n02107142_7143.jpg  \n",
            "  inflating: images/doberman/n02107142_11042.jpg  \n",
            "  inflating: images/doberman/n02107142_9621.jpg  \n",
            "  inflating: images/doberman/n02107142_534.jpg  \n",
            "  inflating: images/doberman/n02107142_9379.jpg  \n",
            "  inflating: images/doberman/n02107142_12749.jpg  \n",
            "  inflating: images/doberman/n02107142_8675.jpg  \n",
            "  inflating: images/doberman/n02107142_14066.jpg  \n",
            "  inflating: images/doberman/n02107142_15436.jpg  \n",
            "  inflating: images/doberman/n02107142_17147.jpg  \n",
            "  inflating: images/doberman/n02107142_1251.jpg  \n",
            "  inflating: images/doberman/n02107142_4314.jpg  \n",
            "  inflating: images/doberman/n02107142_10952.jpg  \n",
            "  inflating: images/doberman/n02107142_3094.jpg  \n",
            "  inflating: images/doberman/n02107142_5181.jpg  \n",
            "  inflating: images/doberman/n02107142_5395.jpg  \n",
            "  inflating: images/doberman/n02107142_1694.jpg  \n",
            "  inflating: images/doberman/n02107142_5196.jpg  \n",
            "  inflating: images/doberman/n02107142_17564.jpg  \n",
            "  inflating: images/doberman/n02107142_10009.jpg  \n",
            "  inflating: images/doberman/n02107142_1074.jpg  \n",
            "  inflating: images/doberman/n02107142_13677.jpg  \n",
            "  inflating: images/doberman/n02107142_8331.jpg  \n",
            "  inflating: images/doberman/n02107142_10036.jpg  \n",
            "  inflating: images/doberman/n02107142_16917.jpg  \n",
            "  inflating: images/doberman/n02107142_3488.jpg  \n",
            "  inflating: images/doberman/n02107142_3073.jpg  \n",
            "  inflating: images/doberman/n02107142_12191.jpg  \n",
            "  inflating: images/doberman/n02107142_5166.jpg  \n",
            "  inflating: images/doberman/n02107142_2153.jpg  \n",
            "  inflating: images/doberman/n02107142_7205.jpg  \n",
            "  inflating: images/doberman/n02107142_15003.jpg  \n",
            "  inflating: images/doberman/n02107142_2553.jpg  \n",
            "  inflating: images/doberman/n02107142_2779.jpg  \n",
            "  inflating: images/doberman/n02107142_7402.jpg  \n",
            "  inflating: images/doberman/n02107142_1073.jpg  \n",
            "  inflating: images/doberman/n02107142_7238.jpg  \n",
            "  inflating: images/doberman/n02107142_4725.jpg  \n",
            "  inflating: images/doberman/n02107142_699.jpg  \n",
            "  inflating: images/doberman/n02107142_4255.jpg  \n",
            "  inflating: images/doberman/n02107142_17575.jpg  \n",
            "  inflating: images/doberman/n02107142_12182.jpg  \n",
            "  inflating: images/doberman/n02107142_17788.jpg  \n",
            "  inflating: images/doberman/n02107142_6859.jpg  \n",
            "  inflating: images/doberman/n02107142_2418.jpg  \n",
            "  inflating: images/doberman/n02107142_7206.jpg  \n",
            "  inflating: images/doberman/n02107142_4653.jpg  \n",
            "  inflating: images/doberman/n02107142_248.jpg  \n",
            "  inflating: images/doberman/n02107142_11717.jpg  \n",
            "  inflating: images/doberman/n02107142_5766.jpg  \n",
            "  inflating: images/doberman/n02107142_9362.jpg  \n",
            "  inflating: images/doberman/n02107142_5570.jpg  \n",
            "  inflating: images/doberman/n02107142_1886.jpg  \n",
            "  inflating: images/doberman/n02107142_473.jpg  \n",
            "  inflating: images/doberman/n02107142_15377.jpg  \n",
            "  inflating: images/doberman/n02107142_9772.jpg  \n",
            "  inflating: images/doberman/n02107142_1306.jpg  \n",
            "  inflating: images/doberman/n02107142_6383.jpg  \n",
            "  inflating: images/doberman/n02107142_2654.jpg  \n",
            "  inflating: images/doberman/n02107142_8437.jpg  \n",
            "  inflating: images/doberman/n02107142_5517.jpg  \n",
            "  inflating: images/doberman/n02107142_7300.jpg  \n",
            "  inflating: images/doberman/n02107142_14813.jpg  \n",
            "  inflating: images/doberman/n02107142_7102.jpg  \n",
            "  inflating: images/doberman/n02107142_788.jpg  \n",
            "  inflating: images/doberman/n02107142_6816.jpg  \n",
            "  inflating: images/doberman/n02107142_3575.jpg  \n",
            "  inflating: images/doberman/n02107142_16424.jpg  \n",
            "  inflating: images/doberman/n02107142_18582.jpg  \n",
            "  inflating: images/doberman/n02107142_7459.jpg  \n",
            "  inflating: images/doberman/n02107142_3171.jpg  \n",
            "  inflating: images/doberman/n02107142_10647.jpg  \n",
            "  inflating: images/doberman/n02107142_8568.jpg  \n",
            "  inflating: images/doberman/n02107142_14636.jpg  \n",
            "  inflating: images/doberman/n02107142_7841.jpg  \n",
            "  inflating: images/doberman/n02107142_5663.jpg  \n",
            "  inflating: images/doberman/n02107142_13011.jpg  \n",
            "  inflating: images/doberman/n02107142_6395.jpg  \n",
            "  inflating: images/doberman/n02107142_4790.jpg  \n",
            "  inflating: images/doberman/n02107142_17111.jpg  \n",
            "  inflating: images/doberman/n02107142_18020.jpg  \n",
            "  inflating: images/doberman/n02107142_4632.jpg  \n",
            "  inflating: images/doberman/n02107142_14425.jpg  \n",
            "  inflating: images/doberman/n02107142_413.jpg  \n",
            "  inflating: images/doberman/n02107142_7703.jpg  \n",
            "  inflating: images/doberman/n02107142_18196.jpg  \n",
            "  inflating: images/doberman/n02107142_607.jpg  \n",
            "  inflating: images/doberman/n02107142_15936.jpg  \n",
            "  inflating: images/doberman/n02107142_7311.jpg  \n",
            "  inflating: images/doberman/n02107142_18779.jpg  \n",
            "  inflating: images/doberman/n02107142_3412.jpg  \n",
            "   creating: images/siberian_husky/\n",
            "  inflating: images/siberian_husky/n02110185_12498.jpg  \n",
            "  inflating: images/siberian_husky/n02110185_1164.jpg  \n",
            "  inflating: images/siberian_husky/n02110185_8154.jpg  \n",
            "  inflating: images/siberian_husky/n02110185_9712.jpg  \n",
            "  inflating: images/siberian_husky/n02110185_6409.jpg  \n",
            "  inflating: images/siberian_husky/n02110185_9855.jpg  \n",
            "  inflating: images/siberian_husky/n02110185_6780.jpg  \n",
            "  inflating: images/siberian_husky/n02110185_11783.jpg  \n",
            "  inflating: images/siberian_husky/n02110185_3808.jpg  \n",
            "  inflating: images/siberian_husky/n02110185_7879.jpg  \n",
            "  inflating: images/siberian_husky/n02110185_11580.jpg  \n",
            "  inflating: images/siberian_husky/n02110185_11635.jpg  \n",
            "  inflating: images/siberian_husky/n02110185_2446.jpg  \n",
            "  inflating: images/siberian_husky/n02110185_10273.jpg  \n",
            "  inflating: images/siberian_husky/n02110185_11409.jpg  \n",
            "  inflating: images/siberian_husky/n02110185_10844.jpg  \n",
            "  inflating: images/siberian_husky/n02110185_3406.jpg  \n",
            "  inflating: images/siberian_husky/n02110185_13197.jpg  \n",
            "  inflating: images/siberian_husky/n02110185_1748.jpg  \n",
            "  inflating: images/siberian_husky/n02110185_632.jpg  \n",
            "  inflating: images/siberian_husky/n02110185_6351.jpg  \n",
            "  inflating: images/siberian_husky/n02110185_815.jpg  \n",
            "  inflating: images/siberian_husky/n02110185_8397.jpg  \n",
            "  inflating: images/siberian_husky/n02110185_14766.jpg  \n",
            "  inflating: images/siberian_husky/n02110185_1614.jpg  \n",
            "  inflating: images/siberian_husky/n02110185_11636.jpg  \n",
            "  inflating: images/siberian_husky/n02110185_13794.jpg  \n",
            "  inflating: images/siberian_husky/n02110185_11626.jpg  \n",
            "  inflating: images/siberian_husky/n02110185_7936.jpg  \n",
            "  inflating: images/siberian_husky/n02110185_14560.jpg  \n",
            "  inflating: images/siberian_husky/n02110185_7117.jpg  \n",
            "  inflating: images/siberian_husky/n02110185_7329.jpg  \n",
            "  inflating: images/siberian_husky/n02110185_13187.jpg  \n",
            "  inflating: images/siberian_husky/n02110185_8966.jpg  \n",
            "  inflating: images/siberian_husky/n02110185_13434.jpg  \n",
            "  inflating: images/siberian_husky/n02110185_1598.jpg  \n",
            "  inflating: images/siberian_husky/n02110185_9846.jpg  \n",
            "  inflating: images/siberian_husky/n02110185_3589.jpg  \n",
            "  inflating: images/siberian_husky/n02110185_353.jpg  \n",
            "  inflating: images/siberian_husky/n02110185_184.jpg  \n",
            "  inflating: images/siberian_husky/n02110185_11396.jpg  \n",
            "  inflating: images/siberian_husky/n02110185_1439.jpg  \n",
            "  inflating: images/siberian_husky/n02110185_2736.jpg  \n",
            "  inflating: images/siberian_husky/n02110185_4186.jpg  \n",
            "  inflating: images/siberian_husky/n02110185_6746.jpg  \n",
            "  inflating: images/siberian_husky/n02110185_9461.jpg  \n",
            "  inflating: images/siberian_husky/n02110185_13423.jpg  \n",
            "  inflating: images/siberian_husky/n02110185_5716.jpg  \n",
            "  inflating: images/siberian_husky/n02110185_10116.jpg  \n",
            "  inflating: images/siberian_husky/n02110185_3039.jpg  \n",
            "  inflating: images/siberian_husky/n02110185_4030.jpg  \n",
            "  inflating: images/siberian_husky/n02110185_11131.jpg  \n",
            "  inflating: images/siberian_husky/n02110185_14061.jpg  \n",
            "  inflating: images/siberian_husky/n02110185_2368.jpg  \n",
            "  inflating: images/siberian_husky/n02110185_7210.jpg  \n",
            "  inflating: images/siberian_husky/n02110185_9177.jpg  \n",
            "  inflating: images/siberian_husky/n02110185_3328.jpg  \n",
            "  inflating: images/siberian_husky/n02110185_10171.jpg  \n",
            "  inflating: images/siberian_husky/n02110185_519.jpg  \n",
            "  inflating: images/siberian_husky/n02110185_1066.jpg  \n",
            "  inflating: images/siberian_husky/n02110185_120.jpg  \n",
            "  inflating: images/siberian_husky/n02110185_1338.jpg  \n",
            "  inflating: images/siberian_husky/n02110185_14289.jpg  \n",
            "  inflating: images/siberian_husky/n02110185_13282.jpg  \n",
            "  inflating: images/siberian_husky/n02110185_11287.jpg  \n",
            "  inflating: images/siberian_husky/n02110185_58.jpg  \n",
            "  inflating: images/siberian_husky/n02110185_2593.jpg  \n",
            "  inflating: images/siberian_husky/n02110185_3302.jpg  \n",
            "  inflating: images/siberian_husky/n02110185_725.jpg  \n",
            "  inflating: images/siberian_husky/n02110185_7762.jpg  \n",
            "  inflating: images/siberian_husky/n02110185_9001.jpg  \n",
            "  inflating: images/siberian_husky/n02110185_4294.jpg  \n",
            "  inflating: images/siberian_husky/n02110185_8860.jpg  \n",
            "  inflating: images/siberian_husky/n02110185_7564.jpg  \n",
            "  inflating: images/siberian_husky/n02110185_8327.jpg  \n",
            "  inflating: images/siberian_husky/n02110185_5159.jpg  \n",
            "  inflating: images/siberian_husky/n02110185_1511.jpg  \n",
            "  inflating: images/siberian_husky/n02110185_12748.jpg  \n",
            "  inflating: images/siberian_husky/n02110185_4694.jpg  \n",
            "  inflating: images/siberian_husky/n02110185_9429.jpg  \n",
            "  inflating: images/siberian_husky/n02110185_13127.jpg  \n",
            "  inflating: images/siberian_husky/n02110185_10360.jpg  \n",
            "  inflating: images/siberian_husky/n02110185_1289.jpg  \n",
            "  inflating: images/siberian_husky/n02110185_10955.jpg  \n",
            "  inflating: images/siberian_husky/n02110185_5172.jpg  \n",
            "  inflating: images/siberian_husky/n02110185_4522.jpg  \n",
            "  inflating: images/siberian_husky/n02110185_5628.jpg  \n",
            "  inflating: images/siberian_husky/n02110185_9833.jpg  \n",
            "  inflating: images/siberian_husky/n02110185_6094.jpg  \n",
            "  inflating: images/siberian_husky/n02110185_7413.jpg  \n",
            "  inflating: images/siberian_husky/n02110185_8708.jpg  \n",
            "  inflating: images/siberian_husky/n02110185_4133.jpg  \n",
            "  inflating: images/siberian_husky/n02110185_15019.jpg  \n",
            "  inflating: images/siberian_husky/n02110185_10175.jpg  \n",
            "  inflating: images/siberian_husky/n02110185_7980.jpg  \n",
            "  inflating: images/siberian_husky/n02110185_11445.jpg  \n",
            "  inflating: images/siberian_husky/n02110185_4906.jpg  \n",
            "  inflating: images/siberian_husky/n02110185_7594.jpg  \n",
            "  inflating: images/siberian_husky/n02110185_10597.jpg  \n",
            "  inflating: images/siberian_husky/n02110185_12380.jpg  \n",
            "  inflating: images/siberian_husky/n02110185_11138.jpg  \n",
            "  inflating: images/siberian_husky/n02110185_699.jpg  \n",
            "  inflating: images/siberian_husky/n02110185_5624.jpg  \n",
            "  inflating: images/siberian_husky/n02110185_712.jpg  \n",
            "  inflating: images/siberian_husky/n02110185_8923.jpg  \n",
            "  inflating: images/siberian_husky/n02110185_7379.jpg  \n",
            "  inflating: images/siberian_husky/n02110185_3651.jpg  \n",
            "  inflating: images/siberian_husky/n02110185_13855.jpg  \n",
            "  inflating: images/siberian_husky/n02110185_9396.jpg  \n",
            "  inflating: images/siberian_husky/n02110185_14479.jpg  \n",
            "  inflating: images/siberian_husky/n02110185_9194.jpg  \n",
            "  inflating: images/siberian_husky/n02110185_5143.jpg  \n",
            "  inflating: images/siberian_husky/n02110185_2604.jpg  \n",
            "  inflating: images/siberian_husky/n02110185_698.jpg  \n",
            "  inflating: images/siberian_husky/n02110185_13704.jpg  \n",
            "  inflating: images/siberian_husky/n02110185_1469.jpg  \n",
            "  inflating: images/siberian_husky/n02110185_2941.jpg  \n",
            "  inflating: images/siberian_husky/n02110185_4115.jpg  \n",
            "  inflating: images/siberian_husky/n02110185_14650.jpg  \n",
            "  inflating: images/siberian_husky/n02110185_248.jpg  \n",
            "  inflating: images/siberian_husky/n02110185_1534.jpg  \n",
            "  inflating: images/siberian_husky/n02110185_14283.jpg  \n",
            "  inflating: images/siberian_husky/n02110185_1497.jpg  \n",
            "  inflating: images/siberian_husky/n02110185_2820.jpg  \n",
            "  inflating: images/siberian_husky/n02110185_9975.jpg  \n",
            "  inflating: images/siberian_husky/n02110185_10967.jpg  \n",
            "  inflating: images/siberian_husky/n02110185_14056.jpg  \n",
            "  inflating: images/siberian_husky/n02110185_1130.jpg  \n",
            "  inflating: images/siberian_husky/n02110185_4060.jpg  \n",
            "  inflating: images/siberian_husky/n02110185_6105.jpg  \n",
            "  inflating: images/siberian_husky/n02110185_6850.jpg  \n",
            "  inflating: images/siberian_husky/n02110185_5622.jpg  \n",
            "  inflating: images/siberian_husky/n02110185_5030.jpg  \n",
            "  inflating: images/siberian_husky/n02110185_6263.jpg  \n",
            "  inflating: images/siberian_husky/n02110185_4677.jpg  \n",
            "  inflating: images/siberian_husky/n02110185_14523.jpg  \n",
            "  inflating: images/siberian_husky/n02110185_3291.jpg  \n",
            "  inflating: images/siberian_husky/n02110185_14906.jpg  \n",
            "  inflating: images/siberian_husky/n02110185_5392.jpg  \n",
            "  inflating: images/siberian_husky/n02110185_2614.jpg  \n",
            "  inflating: images/siberian_husky/n02110185_1532.jpg  \n",
            "  inflating: images/siberian_husky/n02110185_56.jpg  \n",
            "  inflating: images/siberian_husky/n02110185_5973.jpg  \n",
            "  inflating: images/siberian_husky/n02110185_931.jpg  \n",
            "  inflating: images/siberian_husky/n02110185_6473.jpg  \n",
            "  inflating: images/siberian_husky/n02110185_1446.jpg  \n",
            "  inflating: images/siberian_husky/n02110185_11114.jpg  \n",
            "  inflating: images/siberian_husky/n02110185_11841.jpg  \n",
            "  inflating: images/siberian_husky/n02110185_7246.jpg  \n",
            "  inflating: images/siberian_husky/n02110185_2672.jpg  \n",
            "  inflating: images/siberian_husky/n02110185_12678.jpg  \n",
            "  inflating: images/siberian_husky/n02110185_10047.jpg  \n",
            "  inflating: images/siberian_husky/n02110185_7044.jpg  \n",
            "  inflating: images/siberian_husky/n02110185_15063.jpg  \n",
            "  inflating: images/siberian_husky/n02110185_1794.jpg  \n",
            "  inflating: images/siberian_husky/n02110185_10898.jpg  \n",
            "  inflating: images/siberian_husky/n02110185_8564.jpg  \n",
            "  inflating: images/siberian_husky/n02110185_8216.jpg  \n",
            "  inflating: images/siberian_husky/n02110185_1178.jpg  \n",
            "  inflating: images/siberian_husky/n02110185_13942.jpg  \n",
            "  inflating: images/siberian_husky/n02110185_8162.jpg  \n",
            "  inflating: images/siberian_husky/n02110185_8360.jpg  \n",
            "  inflating: images/siberian_husky/n02110185_6775.jpg  \n",
            "  inflating: images/siberian_husky/n02110185_9334.jpg  \n",
            "  inflating: images/siberian_husky/n02110185_13821.jpg  \n",
            "  inflating: images/siberian_husky/n02110185_12120.jpg  \n",
            "  inflating: images/siberian_husky/n02110185_12478.jpg  \n",
            "  inflating: images/siberian_husky/n02110185_388.jpg  \n",
            "  inflating: images/siberian_husky/n02110185_12656.jpg  \n",
            "  inflating: images/siberian_husky/n02110185_7888.jpg  \n",
            "  inflating: images/siberian_husky/n02110185_2728.jpg  \n",
            "  inflating: images/siberian_husky/n02110185_13158.jpg  \n",
            "  inflating: images/siberian_husky/n02110185_11773.jpg  \n",
            "  inflating: images/siberian_husky/n02110185_8749.jpg  \n",
            "  inflating: images/siberian_husky/n02110185_8748.jpg  \n",
            "  inflating: images/siberian_husky/n02110185_2701.jpg  \n",
            "  inflating: images/siberian_husky/n02110185_1552.jpg  \n",
            "  inflating: images/siberian_husky/n02110185_10875.jpg  \n",
            "  inflating: images/siberian_husky/n02110185_10849.jpg  \n",
            "  inflating: images/siberian_husky/n02110185_14597.jpg  \n",
            "  inflating: images/siberian_husky/n02110185_8600.jpg  \n",
            "  inflating: images/siberian_husky/n02110185_12441.jpg  \n",
            "  inflating: images/siberian_husky/n02110185_5495.jpg  \n",
            "  inflating: images/siberian_husky/n02110185_5871.jpg  \n",
            "  inflating: images/siberian_husky/n02110185_6411.jpg  \n",
            "  inflating: images/siberian_husky/n02110185_8005.jpg  \n",
            "  inflating: images/siberian_husky/n02110185_6564.jpg  \n",
            "  inflating: images/siberian_husky/n02110185_3540.jpg  \n",
            "  inflating: images/siberian_husky/n02110185_6438.jpg  \n",
            "  inflating: images/siberian_husky/n02110185_10902.jpg  \n",
            "  inflating: images/siberian_husky/n02110185_9086.jpg  \n",
            "  inflating: images/siberian_husky/n02110185_14594.jpg  \n",
            "   creating: images/labrador_retriever/\n",
            "  inflating: images/labrador_retriever/n02099712_7411.jpg  \n",
            "  inflating: images/labrador_retriever/n02099712_4508.jpg  \n",
            "  inflating: images/labrador_retriever/n02099712_3273.jpg  \n",
            "  inflating: images/labrador_retriever/n02099712_7968.jpg  \n",
            "  inflating: images/labrador_retriever/n02099712_357.jpg  \n",
            "  inflating: images/labrador_retriever/n02099712_6684.jpg  \n",
            "  inflating: images/labrador_retriever/n02099712_6646.jpg  \n",
            "  inflating: images/labrador_retriever/n02099712_3500.jpg  \n",
            "  inflating: images/labrador_retriever/n02099712_6901.jpg  \n",
            "  inflating: images/labrador_retriever/n02099712_9373.jpg  \n",
            "  inflating: images/labrador_retriever/n02099712_2226.jpg  \n",
            "  inflating: images/labrador_retriever/n02099712_8051.jpg  \n",
            "  inflating: images/labrador_retriever/n02099712_7406.jpg  \n",
            "  inflating: images/labrador_retriever/n02099712_4133.jpg  \n",
            "  inflating: images/labrador_retriever/n02099712_2224.jpg  \n",
            "  inflating: images/labrador_retriever/n02099712_3502.jpg  \n",
            "  inflating: images/labrador_retriever/n02099712_6446.jpg  \n",
            "  inflating: images/labrador_retriever/n02099712_3258.jpg  \n",
            "  inflating: images/labrador_retriever/n02099712_6644.jpg  \n",
            "  inflating: images/labrador_retriever/n02099712_4913.jpg  \n",
            "  inflating: images/labrador_retriever/n02099712_619.jpg  \n",
            "  inflating: images/labrador_retriever/n02099712_3503.jpg  \n",
            "  inflating: images/labrador_retriever/n02099712_221.jpg  \n",
            "  inflating: images/labrador_retriever/n02099712_209.jpg  \n",
            "  inflating: images/labrador_retriever/n02099712_7605.jpg  \n",
            "  inflating: images/labrador_retriever/n02099712_5599.jpg  \n",
            "  inflating: images/labrador_retriever/n02099712_3301.jpg  \n",
            "  inflating: images/labrador_retriever/n02099712_7749.jpg  \n",
            "  inflating: images/labrador_retriever/n02099712_7775.jpg  \n",
            "  inflating: images/labrador_retriever/n02099712_1660.jpg  \n",
            "  inflating: images/labrador_retriever/n02099712_57.jpg  \n",
            "  inflating: images/labrador_retriever/n02099712_6318.jpg  \n",
            "  inflating: images/labrador_retriever/n02099712_5017.jpg  \n",
            "  inflating: images/labrador_retriever/n02099712_8719.jpg  \n",
            "  inflating: images/labrador_retriever/n02099712_2234.jpg  \n",
            "  inflating: images/labrador_retriever/n02099712_4653.jpg  \n",
            "  inflating: images/labrador_retriever/n02099712_7414.jpg  \n",
            "  inflating: images/labrador_retriever/n02099712_1930.jpg  \n",
            "  inflating: images/labrador_retriever/n02099712_4323.jpg  \n",
            "  inflating: images/labrador_retriever/n02099712_7164.jpg  \n",
            "  inflating: images/labrador_retriever/n02099712_6455.jpg  \n",
            "  inflating: images/labrador_retriever/n02099712_384.jpg  \n",
            "  inflating: images/labrador_retriever/n02099712_5941.jpg  \n",
            "  inflating: images/labrador_retriever/n02099712_5000.jpg  \n",
            "  inflating: images/labrador_retriever/n02099712_8242.jpg  \n",
            "  inflating: images/labrador_retriever/n02099712_3868.jpg  \n",
            "  inflating: images/labrador_retriever/n02099712_3698.jpg  \n",
            "  inflating: images/labrador_retriever/n02099712_3854.jpg  \n",
            "  inflating: images/labrador_retriever/n02099712_6079.jpg  \n",
            "  inflating: images/labrador_retriever/n02099712_2223.jpg  \n",
            "  inflating: images/labrador_retriever/n02099712_3364.jpg  \n",
            "  inflating: images/labrador_retriever/n02099712_7664.jpg  \n",
            "  inflating: images/labrador_retriever/n02099712_1229.jpg  \n",
            "  inflating: images/labrador_retriever/n02099712_2668.jpg  \n",
            "  inflating: images/labrador_retriever/n02099712_6426.jpg  \n",
            "  inflating: images/labrador_retriever/n02099712_4543.jpg  \n",
            "  inflating: images/labrador_retriever/n02099712_7937.jpg  \n",
            "  inflating: images/labrador_retriever/n02099712_3947.jpg  \n",
            "  inflating: images/labrador_retriever/n02099712_5338.jpg  \n",
            "  inflating: images/labrador_retriever/n02099712_6619.jpg  \n",
            "  inflating: images/labrador_retriever/n02099712_5853.jpg  \n",
            "  inflating: images/labrador_retriever/n02099712_490.jpg  \n",
            "  inflating: images/labrador_retriever/n02099712_5648.jpg  \n",
            "  inflating: images/labrador_retriever/n02099712_1200.jpg  \n",
            "  inflating: images/labrador_retriever/n02099712_719.jpg  \n",
            "  inflating: images/labrador_retriever/n02099712_1941.jpg  \n",
            "  inflating: images/labrador_retriever/n02099712_2938.jpg  \n",
            "  inflating: images/labrador_retriever/n02099712_6586.jpg  \n",
            "  inflating: images/labrador_retriever/n02099712_7049.jpg  \n",
            "  inflating: images/labrador_retriever/n02099712_5689.jpg  \n",
            "  inflating: images/labrador_retriever/n02099712_4965.jpg  \n",
            "  inflating: images/labrador_retriever/n02099712_2332.jpg  \n",
            "  inflating: images/labrador_retriever/n02099712_3776.jpg  \n",
            "  inflating: images/labrador_retriever/n02099712_5844.jpg  \n",
            "  inflating: images/labrador_retriever/n02099712_2118.jpg  \n",
            "  inflating: images/labrador_retriever/n02099712_4384.jpg  \n",
            "  inflating: images/labrador_retriever/n02099712_1987.jpg  \n",
            "  inflating: images/labrador_retriever/n02099712_5263.jpg  \n",
            "  inflating: images/labrador_retriever/n02099712_3835.jpg  \n",
            "  inflating: images/labrador_retriever/n02099712_8790.jpg  \n",
            "  inflating: images/labrador_retriever/n02099712_6232.jpg  \n",
            "  inflating: images/labrador_retriever/n02099712_2120.jpg  \n",
            "  inflating: images/labrador_retriever/n02099712_5471.jpg  \n",
            "  inflating: images/labrador_retriever/n02099712_4960.jpg  \n",
            "  inflating: images/labrador_retriever/n02099712_3773.jpg  \n",
            "  inflating: images/labrador_retriever/n02099712_1414.jpg  \n",
            "  inflating: images/labrador_retriever/n02099712_6421.jpg  \n",
            "  inflating: images/labrador_retriever/n02099712_4550.jpg  \n",
            "  inflating: images/labrador_retriever/n02099712_3613.jpg  \n",
            "  inflating: images/labrador_retriever/n02099712_4354.jpg  \n",
            "  inflating: images/labrador_retriever/n02099712_6345.jpg  \n",
            "  inflating: images/labrador_retriever/n02099712_4037.jpg  \n",
            "  inflating: images/labrador_retriever/n02099712_3980.jpg  \n",
            "  inflating: images/labrador_retriever/n02099712_2863.jpg  \n",
            "  inflating: images/labrador_retriever/n02099712_5261.jpg  \n",
            "  inflating: images/labrador_retriever/n02099712_4625.jpg  \n",
            "  inflating: images/labrador_retriever/n02099712_1383.jpg  \n",
            "  inflating: images/labrador_retriever/n02099712_7533.jpg  \n",
            "  inflating: images/labrador_retriever/n02099712_3769.jpg  \n",
            "  inflating: images/labrador_retriever/n02099712_6823.jpg  \n",
            "  inflating: images/labrador_retriever/n02099712_328.jpg  \n",
            "  inflating: images/labrador_retriever/n02099712_4403.jpg  \n",
            "  inflating: images/labrador_retriever/n02099712_3185.jpg  \n",
            "  inflating: images/labrador_retriever/n02099712_7493.jpg  \n",
            "  inflating: images/labrador_retriever/n02099712_5657.jpg  \n",
            "  inflating: images/labrador_retriever/n02099712_6404.jpg  \n",
            "  inflating: images/labrador_retriever/n02099712_1828.jpg  \n",
            "  inflating: images/labrador_retriever/n02099712_129.jpg  \n",
            "  inflating: images/labrador_retriever/n02099712_854.jpg  \n",
            "  inflating: images/labrador_retriever/n02099712_511.jpg  \n",
            "  inflating: images/labrador_retriever/n02099712_4428.jpg  \n",
            "  inflating: images/labrador_retriever/n02099712_2501.jpg  \n",
            "  inflating: images/labrador_retriever/n02099712_6997.jpg  \n",
            "  inflating: images/labrador_retriever/n02099712_4160.jpg  \n",
            "  inflating: images/labrador_retriever/n02099712_8014.jpg  \n",
            "  inflating: images/labrador_retriever/n02099712_2115.jpg  \n",
            "  inflating: images/labrador_retriever/n02099712_2897.jpg  \n",
            "  inflating: images/labrador_retriever/n02099712_475.jpg  \n",
            "  inflating: images/labrador_retriever/n02099712_3753.jpg  \n",
            "  inflating: images/labrador_retriever/n02099712_1150.jpg  \n",
            "  inflating: images/labrador_retriever/n02099712_3430.jpg  \n",
            "  inflating: images/labrador_retriever/n02099712_3197.jpg  \n",
            "  inflating: images/labrador_retriever/n02099712_7497.jpg  \n",
            "  inflating: images/labrador_retriever/n02099712_3829.jpg  \n",
            "  inflating: images/labrador_retriever/n02099712_4177.jpg  \n",
            "  inflating: images/labrador_retriever/n02099712_7481.jpg  \n",
            "  inflating: images/labrador_retriever/n02099712_3340.jpg  \n",
            "  inflating: images/labrador_retriever/n02099712_7683.jpg  \n",
            "  inflating: images/labrador_retriever/n02099712_5679.jpg  \n",
            "  inflating: images/labrador_retriever/n02099712_4759.jpg  \n",
            "  inflating: images/labrador_retriever/n02099712_3988.jpg  \n",
            "  inflating: images/labrador_retriever/n02099712_3963.jpg  \n",
            "  inflating: images/labrador_retriever/n02099712_2473.jpg  \n",
            "  inflating: images/labrador_retriever/n02099712_311.jpg  \n",
            "  inflating: images/labrador_retriever/n02099712_1436.jpg  \n",
            "  inflating: images/labrador_retriever/n02099712_7866.jpg  \n",
            "  inflating: images/labrador_retriever/n02099712_7133.jpg  \n",
            "  inflating: images/labrador_retriever/n02099712_6775.jpg  \n",
            "  inflating: images/labrador_retriever/n02099712_4677.jpg  \n",
            "  inflating: images/labrador_retriever/n02099712_7418.jpg  \n",
            "  inflating: images/labrador_retriever/n02099712_3865.jpg  \n",
            "  inflating: images/labrador_retriever/n02099712_7815.jpg  \n",
            "  inflating: images/labrador_retriever/n02099712_389.jpg  \n",
            "  inflating: images/labrador_retriever/n02099712_607.jpg  \n",
            "  inflating: images/labrador_retriever/n02099712_6897.jpg  \n",
            "  inflating: images/labrador_retriever/n02099712_5965.jpg  \n",
            "  inflating: images/labrador_retriever/n02099712_4845.jpg  \n",
            "  inflating: images/labrador_retriever/n02099712_1254.jpg  \n",
            "  inflating: images/labrador_retriever/n02099712_6275.jpg  \n",
            "  inflating: images/labrador_retriever/n02099712_4462.jpg  \n",
            "  inflating: images/labrador_retriever/n02099712_7802.jpg  \n",
            "  inflating: images/labrador_retriever/n02099712_610.jpg  \n",
            "  inflating: images/labrador_retriever/n02099712_6664.jpg  \n",
            "  inflating: images/labrador_retriever/n02099712_7963.jpg  \n",
            "  inflating: images/labrador_retriever/n02099712_5769.jpg  \n",
            "  inflating: images/labrador_retriever/n02099712_6248.jpg  \n",
            "  inflating: images/labrador_retriever/n02099712_7142.jpg  \n",
            "  inflating: images/labrador_retriever/n02099712_980.jpg  \n",
            "  inflating: images/labrador_retriever/n02099712_2228.jpg  \n",
            "  inflating: images/labrador_retriever/n02099712_7608.jpg  \n",
            "  inflating: images/labrador_retriever/n02099712_4705.jpg  \n",
            "  inflating: images/labrador_retriever/n02099712_1866.jpg  \n",
            "  inflating: images/labrador_retriever/n02099712_365.jpg  \n",
            "  inflating: images/labrador_retriever/n02099712_5787.jpg  \n",
            "  inflating: images/labrador_retriever/n02099712_788.jpg  \n",
            "  inflating: images/labrador_retriever/n02099712_7179.jpg  \n",
            "  inflating: images/labrador_retriever/n02099712_5008.jpg  \n",
            "  inflating: images/labrador_retriever/n02099712_4074.jpg  \n",
            "  inflating: images/labrador_retriever/n02099712_5343.jpg  \n",
            "  inflating: images/labrador_retriever/n02099712_2174.jpg  \n",
            "  inflating: images/labrador_retriever/n02099712_5021.jpg  \n",
            "   creating: images/bernese_mountain_dog/\n",
            "  inflating: images/bernese_mountain_dog/n02107683_4411.jpg  \n",
            "  inflating: images/bernese_mountain_dog/n02107683_3140.jpg  \n",
            "  inflating: images/bernese_mountain_dog/n02107683_1958.jpg  \n",
            "  inflating: images/bernese_mountain_dog/n02107683_3034.jpg  \n",
            "  inflating: images/bernese_mountain_dog/n02107683_6825.jpg  \n",
            "  inflating: images/bernese_mountain_dog/n02107683_1421.jpg  \n",
            "  inflating: images/bernese_mountain_dog/n02107683_34.jpg  \n",
            "  inflating: images/bernese_mountain_dog/n02107683_20.jpg  \n",
            "  inflating: images/bernese_mountain_dog/n02107683_5684.jpg  \n",
            "  inflating: images/bernese_mountain_dog/n02107683_5848.jpg  \n",
            "  inflating: images/bernese_mountain_dog/n02107683_4558.jpg  \n",
            "  inflating: images/bernese_mountain_dog/n02107683_4941.jpg  \n",
            "  inflating: images/bernese_mountain_dog/n02107683_1781.jpg  \n",
            "  inflating: images/bernese_mountain_dog/n02107683_3828.jpg  \n",
            "  inflating: images/bernese_mountain_dog/n02107683_6950.jpg  \n",
            "  inflating: images/bernese_mountain_dog/n02107683_2277.jpg  \n",
            "  inflating: images/bernese_mountain_dog/n02107683_4410.jpg  \n",
            "  inflating: images/bernese_mountain_dog/n02107683_2705.jpg  \n",
            "  inflating: images/bernese_mountain_dog/n02107683_1542.jpg  \n",
            "  inflating: images/bernese_mountain_dog/n02107683_1224.jpg  \n",
            "  inflating: images/bernese_mountain_dog/n02107683_3382.jpg  \n",
            "  inflating: images/bernese_mountain_dog/n02107683_4016.jpg  \n",
            "  inflating: images/bernese_mountain_dog/n02107683_4200.jpg  \n",
            "  inflating: images/bernese_mountain_dog/n02107683_2881.jpg  \n",
            "  inflating: images/bernese_mountain_dog/n02107683_357.jpg  \n",
            "  inflating: images/bernese_mountain_dog/n02107683_342.jpg  \n",
            "  inflating: images/bernese_mountain_dog/n02107683_381.jpg  \n",
            "  inflating: images/bernese_mountain_dog/n02107683_2664.jpg  \n",
            "  inflating: images/bernese_mountain_dog/n02107683_3988.jpg  \n",
            "  inflating: images/bernese_mountain_dog/n02107683_3817.jpg  \n",
            "  inflating: images/bernese_mountain_dog/n02107683_6200.jpg  \n",
            "  inflating: images/bernese_mountain_dog/n02107683_3797.jpg  \n",
            "  inflating: images/bernese_mountain_dog/n02107683_5133.jpg  \n",
            "  inflating: images/bernese_mountain_dog/n02107683_33.jpg  \n",
            "  inflating: images/bernese_mountain_dog/n02107683_4576.jpg  \n",
            "  inflating: images/bernese_mountain_dog/n02107683_4947.jpg  \n",
            "  inflating: images/bernese_mountain_dog/n02107683_2305.jpg  \n",
            "  inflating: images/bernese_mountain_dog/n02107683_1977.jpg  \n",
            "  inflating: images/bernese_mountain_dog/n02107683_3609.jpg  \n",
            "  inflating: images/bernese_mountain_dog/n02107683_3379.jpg  \n",
            "  inflating: images/bernese_mountain_dog/n02107683_4364.jpg  \n",
            "  inflating: images/bernese_mountain_dog/n02107683_4402.jpg  \n",
            "  inflating: images/bernese_mountain_dog/n02107683_3351.jpg  \n",
            "  inflating: images/bernese_mountain_dog/n02107683_2059.jpg  \n",
            "  inflating: images/bernese_mountain_dog/n02107683_1752.jpg  \n",
            "  inflating: images/bernese_mountain_dog/n02107683_3958.jpg  \n",
            "  inflating: images/bernese_mountain_dog/n02107683_2878.jpg  \n",
            "  inflating: images/bernese_mountain_dog/n02107683_3568.jpg  \n",
            "  inflating: images/bernese_mountain_dog/n02107683_5131.jpg  \n",
            "  inflating: images/bernese_mountain_dog/n02107683_4788.jpg  \n",
            "  inflating: images/bernese_mountain_dog/n02107683_2312.jpg  \n",
            "  inflating: images/bernese_mountain_dog/n02107683_5333.jpg  \n",
            "  inflating: images/bernese_mountain_dog/n02107683_5290.jpg  \n",
            "  inflating: images/bernese_mountain_dog/n02107683_6772.jpg  \n",
            "  inflating: images/bernese_mountain_dog/n02107683_1747.jpg  \n",
            "  inflating: images/bernese_mountain_dog/n02107683_2771.jpg  \n",
            "  inflating: images/bernese_mountain_dog/n02107683_1536.jpg  \n",
            "  inflating: images/bernese_mountain_dog/n02107683_1244.jpg  \n",
            "  inflating: images/bernese_mountain_dog/n02107683_257.jpg  \n",
            "  inflating: images/bernese_mountain_dog/n02107683_2567.jpg  \n",
            "  inflating: images/bernese_mountain_dog/n02107683_690.jpg  \n",
            "  inflating: images/bernese_mountain_dog/n02107683_3902.jpg  \n",
            "  inflating: images/bernese_mountain_dog/n02107683_5397.jpg  \n",
            "  inflating: images/bernese_mountain_dog/n02107683_6846.jpg  \n",
            "  inflating: images/bernese_mountain_dog/n02107683_4260.jpg  \n",
            "  inflating: images/bernese_mountain_dog/n02107683_5194.jpg  \n",
            "  inflating: images/bernese_mountain_dog/n02107683_3297.jpg  \n",
            "  inflating: images/bernese_mountain_dog/n02107683_6660.jpg  \n",
            "  inflating: images/bernese_mountain_dog/n02107683_2360.jpg  \n",
            "  inflating: images/bernese_mountain_dog/n02107683_5745.jpg  \n",
            "  inflating: images/bernese_mountain_dog/n02107683_2758.jpg  \n",
            "  inflating: images/bernese_mountain_dog/n02107683_5751.jpg  \n",
            "  inflating: images/bernese_mountain_dog/n02107683_4473.jpg  \n",
            "  inflating: images/bernese_mountain_dog/n02107683_3478.jpg  \n",
            "  inflating: images/bernese_mountain_dog/n02107683_5960.jpg  \n",
            "  inflating: images/bernese_mountain_dog/n02107683_1737.jpg  \n",
            "  inflating: images/bernese_mountain_dog/n02107683_4061.jpg  \n",
            "  inflating: images/bernese_mountain_dog/n02107683_5155.jpg  \n",
            "  inflating: images/bernese_mountain_dog/n02107683_1468.jpg  \n",
            "  inflating: images/bernese_mountain_dog/n02107683_3900.jpg  \n",
            "  inflating: images/bernese_mountain_dog/n02107683_241.jpg  \n",
            "  inflating: images/bernese_mountain_dog/n02107683_5018.jpg  \n",
            "  inflating: images/bernese_mountain_dog/n02107683_7196.jpg  \n",
            "  inflating: images/bernese_mountain_dog/n02107683_906.jpg  \n",
            "  inflating: images/bernese_mountain_dog/n02107683_3694.jpg  \n",
            "  inflating: images/bernese_mountain_dog/n02107683_735.jpg  \n",
            "  inflating: images/bernese_mountain_dog/n02107683_5391.jpg  \n",
            "  inflating: images/bernese_mountain_dog/n02107683_494.jpg  \n",
            "  inflating: images/bernese_mountain_dog/n02107683_443.jpg  \n",
            "  inflating: images/bernese_mountain_dog/n02107683_3291.jpg  \n",
            "  inflating: images/bernese_mountain_dog/n02107683_4515.jpg  \n",
            "  inflating: images/bernese_mountain_dog/n02107683_4924.jpg  \n",
            "  inflating: images/bernese_mountain_dog/n02107683_697.jpg  \n",
            "  inflating: images/bernese_mountain_dog/n02107683_4688.jpg  \n",
            "  inflating: images/bernese_mountain_dog/n02107683_7183.jpg  \n",
            "  inflating: images/bernese_mountain_dog/n02107683_522.jpg  \n",
            "  inflating: images/bernese_mountain_dog/n02107683_1255.jpg  \n",
            "  inflating: images/bernese_mountain_dog/n02107683_1282.jpg  \n",
            "  inflating: images/bernese_mountain_dog/n02107683_4649.jpg  \n",
            "  inflating: images/bernese_mountain_dog/n02107683_4885.jpg  \n",
            "  inflating: images/bernese_mountain_dog/n02107683_3046.jpg  \n",
            "  inflating: images/bernese_mountain_dog/n02107683_3278.jpg  \n",
            "  inflating: images/bernese_mountain_dog/n02107683_454.jpg  \n",
            "  inflating: images/bernese_mountain_dog/n02107683_333.jpg  \n",
            "  inflating: images/bernese_mountain_dog/n02107683_6301.jpg  \n",
            "  inflating: images/bernese_mountain_dog/n02107683_4884.jpg  \n",
            "  inflating: images/bernese_mountain_dog/n02107683_3655.jpg  \n",
            "  inflating: images/bernese_mountain_dog/n02107683_2946.jpg  \n",
            "  inflating: images/bernese_mountain_dog/n02107683_2007.jpg  \n",
            "  inflating: images/bernese_mountain_dog/n02107683_5026.jpg  \n",
            "  inflating: images/bernese_mountain_dog/n02107683_2036.jpg  \n",
            "  inflating: images/bernese_mountain_dog/n02107683_6293.jpg  \n",
            "  inflating: images/bernese_mountain_dog/n02107683_4043.jpg  \n",
            "  inflating: images/bernese_mountain_dog/n02107683_3512.jpg  \n",
            "  inflating: images/bernese_mountain_dog/n02107683_5823.jpg  \n",
            "  inflating: images/bernese_mountain_dog/n02107683_6325.jpg  \n",
            "  inflating: images/bernese_mountain_dog/n02107683_673.jpg  \n",
            "  inflating: images/bernese_mountain_dog/n02107683_3088.jpg  \n",
            "  inflating: images/bernese_mountain_dog/n02107683_698.jpg  \n",
            "  inflating: images/bernese_mountain_dog/n02107683_5228.jpg  \n",
            "  inflating: images/bernese_mountain_dog/n02107683_3659.jpg  \n",
            "  inflating: images/bernese_mountain_dog/n02107683_3467.jpg  \n",
            "  inflating: images/bernese_mountain_dog/n02107683_4487.jpg  \n",
            "  inflating: images/bernese_mountain_dog/n02107683_275.jpg  \n",
            "  inflating: images/bernese_mountain_dog/n02107683_705.jpg  \n",
            "  inflating: images/bernese_mountain_dog/n02107683_3908.jpg  \n",
            "  inflating: images/bernese_mountain_dog/n02107683_1460.jpg  \n",
            "  inflating: images/bernese_mountain_dog/n02107683_61.jpg  \n",
            "  inflating: images/bernese_mountain_dog/n02107683_5821.jpg  \n",
            "  inflating: images/bernese_mountain_dog/n02107683_7038.jpg  \n",
            "  inflating: images/bernese_mountain_dog/n02107683_5363.jpg  \n",
            "  inflating: images/bernese_mountain_dog/n02107683_1677.jpg  \n",
            "  inflating: images/bernese_mountain_dog/n02107683_4727.jpg  \n",
            "  inflating: images/bernese_mountain_dog/n02107683_1071.jpg  \n",
            "  inflating: images/bernese_mountain_dog/n02107683_4653.jpg  \n",
            "  inflating: images/bernese_mountain_dog/n02107683_2965.jpg  \n",
            "  inflating: images/bernese_mountain_dog/n02107683_1707.jpg  \n",
            "  inflating: images/bernese_mountain_dog/n02107683_3138.jpg  \n",
            "  inflating: images/bernese_mountain_dog/n02107683_7202.jpg  \n",
            "  inflating: images/bernese_mountain_dog/n02107683_6875.jpg  \n",
            "  inflating: images/bernese_mountain_dog/n02107683_3931.jpg  \n",
            "  inflating: images/bernese_mountain_dog/n02107683_1317.jpg  \n",
            "  inflating: images/bernese_mountain_dog/n02107683_4521.jpg  \n",
            "  inflating: images/bernese_mountain_dog/n02107683_6336.jpg  \n",
            "  inflating: images/bernese_mountain_dog/n02107683_71.jpg  \n",
            "  inflating: images/bernese_mountain_dog/n02107683_4520.jpg  \n",
            "  inflating: images/bernese_mountain_dog/n02107683_4695.jpg  \n",
            "  inflating: images/bernese_mountain_dog/n02107683_265.jpg  \n",
            "  inflating: images/bernese_mountain_dog/n02107683_1248.jpg  \n",
            "  inflating: images/bernese_mountain_dog/n02107683_3488.jpg  \n",
            "  inflating: images/bernese_mountain_dog/n02107683_1076.jpg  \n",
            "  inflating: images/bernese_mountain_dog/n02107683_5204.jpg  \n",
            "  inflating: images/bernese_mountain_dog/n02107683_6916.jpg  \n",
            "  inflating: images/bernese_mountain_dog/n02107683_4697.jpg  \n",
            "  inflating: images/bernese_mountain_dog/n02107683_4907.jpg  \n",
            "  inflating: images/bernese_mountain_dog/n02107683_2350.jpg  \n",
            "  inflating: images/bernese_mountain_dog/n02107683_4899.jpg  \n",
            "  inflating: images/bernese_mountain_dog/n02107683_5946.jpg  \n",
            "  inflating: images/bernese_mountain_dog/n02107683_4494.jpg  \n",
            "  inflating: images/bernese_mountain_dog/n02107683_2727.jpg  \n",
            "  inflating: images/bernese_mountain_dog/n02107683_6596.jpg  \n",
            "  inflating: images/bernese_mountain_dog/n02107683_215.jpg  \n",
            "  inflating: images/bernese_mountain_dog/n02107683_5538.jpg  \n",
            "  inflating: images/bernese_mountain_dog/n02107683_4168.jpg  \n",
            "  inflating: images/bernese_mountain_dog/n02107683_4183.jpg  \n",
            "  inflating: images/bernese_mountain_dog/n02107683_6151.jpg  \n",
            "  inflating: images/bernese_mountain_dog/n02107683_1400.jpg  \n",
            "  inflating: images/bernese_mountain_dog/n02107683_5699.jpg  \n",
            "  inflating: images/bernese_mountain_dog/n02107683_5840.jpg  \n",
            "  inflating: images/bernese_mountain_dog/n02107683_5115.jpg  \n",
            "  inflating: images/bernese_mountain_dog/n02107683_1429.jpg  \n",
            "  inflating: images/bernese_mountain_dog/n02107683_6781.jpg  \n",
            "  inflating: images/bernese_mountain_dog/n02107683_4633.jpg  \n",
            "  inflating: images/bernese_mountain_dog/n02107683_7104.jpg  \n",
            "  inflating: images/bernese_mountain_dog/n02107683_3406.jpg  \n",
            "  inflating: images/bernese_mountain_dog/n02107683_570.jpg  \n",
            "  inflating: images/bernese_mountain_dog/n02107683_6998.jpg  \n",
            "  inflating: images/bernese_mountain_dog/n02107683_4194.jpg  \n",
            "  inflating: images/bernese_mountain_dog/n02107683_1629.jpg  \n",
            "  inflating: images/bernese_mountain_dog/n02107683_160.jpg  \n",
            "  inflating: images/bernese_mountain_dog/n02107683_6378.jpg  \n",
            "  inflating: images/bernese_mountain_dog/n02107683_1417.jpg  \n",
            "  inflating: images/bernese_mountain_dog/n02107683_2693.jpg  \n",
            "  inflating: images/bernese_mountain_dog/n02107683_2137.jpg  \n",
            "  inflating: images/bernese_mountain_dog/n02107683_997.jpg  \n",
            "  inflating: images/bernese_mountain_dog/n02107683_6999.jpg  \n",
            "  inflating: images/bernese_mountain_dog/n02107683_2902.jpg  \n",
            "  inflating: images/bernese_mountain_dog/n02107683_6580.jpg  \n",
            "  inflating: images/bernese_mountain_dog/n02107683_2043.jpg  \n",
            "  inflating: images/bernese_mountain_dog/n02107683_4350.jpg  \n",
            "  inflating: images/bernese_mountain_dog/n02107683_4807.jpg  \n",
            "  inflating: images/bernese_mountain_dog/n02107683_3952.jpg  \n",
            "  inflating: images/bernese_mountain_dog/n02107683_5112.jpg  \n",
            "  inflating: images/bernese_mountain_dog/n02107683_1412.jpg  \n",
            "  inflating: images/bernese_mountain_dog/n02107683_2683.jpg  \n",
            "  inflating: images/bernese_mountain_dog/n02107683_1375.jpg  \n",
            "  inflating: images/bernese_mountain_dog/n02107683_3204.jpg  \n",
            "  inflating: images/bernese_mountain_dog/n02107683_4782.jpg  \n",
            "  inflating: images/bernese_mountain_dog/n02107683_825.jpg  \n",
            "  inflating: images/bernese_mountain_dog/n02107683_3760.jpg  \n",
            "  inflating: images/bernese_mountain_dog/n02107683_3166.jpg  \n",
            "  inflating: images/bernese_mountain_dog/n02107683_1003.jpg  \n",
            "  inflating: images/bernese_mountain_dog/n02107683_4386.jpg  \n",
            "  inflating: images/bernese_mountain_dog/n02107683_2913.jpg  \n",
            "  inflating: images/bernese_mountain_dog/n02107683_3358.jpg  \n",
            "  inflating: images/bernese_mountain_dog/n02107683_2734.jpg  \n",
            "  inflating: images/bernese_mountain_dog/n02107683_4347.jpg  \n",
            "  inflating: images/bernese_mountain_dog/n02107683_6752.jpg  \n",
            "  inflating: images/bernese_mountain_dog/n02107683_4810.jpg  \n",
            "  inflating: images/bernese_mountain_dog/n02107683_1175.jpg  \n",
            "  inflating: images/bernese_mountain_dog/n02107683_5663.jpg  \n",
            "  inflating: images/bernese_mountain_dog/n02107683_6381.jpg  \n",
            "  inflating: images/bernese_mountain_dog/n02107683_3944.jpg  \n",
            "  inflating: images/bernese_mountain_dog/n02107683_6800.jpg  \n",
            "  inflating: images/bernese_mountain_dog/n02107683_3987.jpg  \n",
            "  inflating: images/bernese_mountain_dog/n02107683_4018.jpg  \n",
            "  inflating: images/bernese_mountain_dog/n02107683_2535.jpg  \n",
            "  inflating: images/bernese_mountain_dog/n02107683_2521.jpg  \n"
          ]
        }
      ]
    },
    {
      "cell_type": "code",
      "execution_count": 2,
      "metadata": {
        "id": "V2ifyiP7ws87"
      },
      "outputs": [],
      "source": [
        "breeds=['beagle', 'bernese_mountain_dog', 'doberman', 'labrador_retriever', 'siberian_husky']"
      ]
    },
    {
      "cell_type": "code",
      "source": [
        "import tensorflow as tf"
      ],
      "metadata": {
        "id": "h4uC0U01w-Kc"
      },
      "execution_count": 3,
      "outputs": []
    },
    {
      "cell_type": "code",
      "source": [
        "args={\n",
        "    'labels': 'inferred',\n",
        "    'label_mode': 'categorical',\n",
        "    'batch_size': 32,\n",
        "    'image_size': (256,256),\n",
        "    'seed': 70,\n",
        "    'validation_split': .2,\n",
        "    'class_names': breeds\n",
        "}"
      ],
      "metadata": {
        "id": "g9aAlEVIzR95"
      },
      "execution_count": 4,
      "outputs": []
    },
    {
      "cell_type": "code",
      "source": [
        "train=tf.keras.utils.image_dataset_from_directory(\n",
        "    'images',\n",
        "    subset='training',\n",
        "    **args\n",
        ")"
      ],
      "metadata": {
        "colab": {
          "base_uri": "https://localhost:8080/"
        },
        "id": "352hniBbzzGC",
        "outputId": "8b0fb01a-fb74-44ac-c6df-3a7f2f806774"
      },
      "execution_count": 5,
      "outputs": [
        {
          "output_type": "stream",
          "name": "stdout",
          "text": [
            "Found 926 files belonging to 5 classes.\n",
            "Using 741 files for training.\n"
          ]
        }
      ]
    },
    {
      "cell_type": "code",
      "source": [
        "test=tf.keras.utils.image_dataset_from_directory(\n",
        "    'images',\n",
        "    subset='validation',\n",
        "    **args\n",
        ")"
      ],
      "metadata": {
        "colab": {
          "base_uri": "https://localhost:8080/"
        },
        "id": "-3bA6rOR02_i",
        "outputId": "f1cacc21-2cfd-4454-cb16-51ab73044a51"
      },
      "execution_count": 6,
      "outputs": [
        {
          "output_type": "stream",
          "name": "stdout",
          "text": [
            "Found 926 files belonging to 5 classes.\n",
            "Using 185 files for validation.\n"
          ]
        }
      ]
    },
    {
      "cell_type": "code",
      "source": [
        "train"
      ],
      "metadata": {
        "colab": {
          "base_uri": "https://localhost:8080/"
        },
        "id": "xO9ja4xj1Xj0",
        "outputId": "6308ec80-6355-4bba-a83a-002bacaed471"
      },
      "execution_count": 7,
      "outputs": [
        {
          "output_type": "execute_result",
          "data": {
            "text/plain": [
              "<BatchDataset element_spec=(TensorSpec(shape=(None, 256, 256, 3), dtype=tf.float32, name=None), TensorSpec(shape=(None, 5), dtype=tf.float32, name=None))>"
            ]
          },
          "metadata": {},
          "execution_count": 7
        }
      ]
    },
    {
      "cell_type": "code",
      "source": [
        "first=train.take(1)\n",
        "first"
      ],
      "metadata": {
        "colab": {
          "base_uri": "https://localhost:8080/"
        },
        "id": "iHqXbOb01a4J",
        "outputId": "b6fca1b9-2a64-463f-d208-ec42f48b65ee"
      },
      "execution_count": 8,
      "outputs": [
        {
          "output_type": "execute_result",
          "data": {
            "text/plain": [
              "<TakeDataset element_spec=(TensorSpec(shape=(None, 256, 256, 3), dtype=tf.float32, name=None), TensorSpec(shape=(None, 5), dtype=tf.float32, name=None))>"
            ]
          },
          "metadata": {},
          "execution_count": 8
        }
      ]
    },
    {
      "cell_type": "code",
      "source": [
        "images, labels=list(first)[0]"
      ],
      "metadata": {
        "id": "cG83HVPk1iZG"
      },
      "execution_count": 9,
      "outputs": []
    },
    {
      "cell_type": "code",
      "source": [
        "from PIL import Image"
      ],
      "metadata": {
        "id": "hvVPWpBf1pSr"
      },
      "execution_count": 10,
      "outputs": []
    },
    {
      "cell_type": "code",
      "source": [
        "Image.fromarray(images[0].numpy().astype(\"uint8\"))"
      ],
      "metadata": {
        "colab": {
          "base_uri": "https://localhost:8080/",
          "height": 273
        },
        "id": "RrJK1jbt1qzw",
        "outputId": "70397060-bbbb-461f-b3aa-2c8c53a51558"
      },
      "execution_count": 11,
      "outputs": [
        {
          "output_type": "execute_result",
          "data": {
            "text/plain": [
              "<PIL.Image.Image image mode=RGB size=256x256 at 0x7FCA96351750>"
            ],
            "image/png": "[encoded data removed]"
          },
          "metadata": {},
          "execution_count": 11
        }
      ]
    },
    {
      "cell_type": "code",
      "source": [
        "labels[0]"
      ],
      "metadata": {
        "colab": {
          "base_uri": "https://localhost:8080/"
        },
        "id": "v1uLsKbO2qy_",
        "outputId": "707c3cd0-774d-4051-88cc-2b01d65d219b"
      },
      "execution_count": 12,
      "outputs": [
        {
          "output_type": "execute_result",
          "data": {
            "text/plain": [
              "<tf.Tensor: shape=(5,), dtype=float32, numpy=array([0., 0., 0., 0., 1.], dtype=float32)>"
            ]
          },
          "metadata": {},
          "execution_count": 12
        }
      ]
    },
    {
      "cell_type": "code",
      "source": [
        "train = train.cache().prefetch(buffer_size=tf.data.AUTOTUNE)\n",
        "test = test.cache().prefetch(buffer_size=tf.data.AUTOTUNE)"
      ],
      "metadata": {
        "id": "-L-5L3VR2yON"
      },
      "execution_count": 13,
      "outputs": []
    },
    {
      "cell_type": "code",
      "source": [
        "from tensorflow.keras import layers\n",
        "from tensorflow.keras.models import Sequential"
      ],
      "metadata": {
        "id": "Ks94lS-U3MfV"
      },
      "execution_count": 14,
      "outputs": []
    },
    {
      "cell_type": "code",
      "source": [
        "model=Sequential([\n",
        "                  layers.Rescaling(1./255),\n",
        "                  layers.Conv2D(16,3,strides=(1,1),padding=\"same\",activation='relu',input_shape=(256,256,3)),\n",
        "                  layers.Flatten(),\n",
        "                  layers.Dense(128,activation='relu'),\n",
        "                  layers.Dense(len(breeds)),\n",
        "                  \n",
        "])"
      ],
      "metadata": {
        "id": "37XDVBs33V_V"
      },
      "execution_count": 15,
      "outputs": []
    },
    {
      "cell_type": "code",
      "source": [
        "model.compile(optimizer='adam',loss=tf.keras.losses.CategoricalCrossentropy(from_logits=True),metrics=['accuracy'])"
      ],
      "metadata": {
        "id": "KhEFJGTE5Fl8"
      },
      "execution_count": 28,
      "outputs": []
    },
    {
      "cell_type": "code",
      "source": [
        "history=model.fit(\n",
        "    train,\n",
        "    validation_data=test,\n",
        "    epochs=10,\n",
        "    verbose=1\n",
        ")"
      ],
      "metadata": {
        "colab": {
          "base_uri": "https://localhost:8080/"
        },
        "id": "VZBI6XMU5ZDb",
        "outputId": "2049b54c-fee1-42db-b8a6-c45193826dd4"
      },
      "execution_count": 29,
      "outputs": [
        {
          "output_type": "stream",
          "name": "stdout",
          "text": [
            "Epoch 1/10\n",
            "24/24 [==============================] - 51s 2s/step - loss: 82.9712 - accuracy: 0.2132 - val_loss: 4.7198 - val_accuracy: 0.3189\n",
            "Epoch 2/10\n",
            "24/24 [==============================] - 44s 2s/step - loss: 2.7230 - accuracy: 0.3441 - val_loss: 1.7545 - val_accuracy: 0.3189\n",
            "Epoch 3/10\n",
            "24/24 [==============================] - 45s 2s/step - loss: 1.3796 - accuracy: 0.4750 - val_loss: 1.5673 - val_accuracy: 0.3351\n",
            "Epoch 4/10\n",
            "24/24 [==============================] - 44s 2s/step - loss: 1.1172 - accuracy: 0.6437 - val_loss: 1.5112 - val_accuracy: 0.3892\n",
            "Epoch 5/10\n",
            "24/24 [==============================] - 45s 2s/step - loss: 0.8421 - accuracy: 0.7814 - val_loss: 1.5032 - val_accuracy: 0.4054\n",
            "Epoch 6/10\n",
            "24/24 [==============================] - 44s 2s/step - loss: 0.5143 - accuracy: 0.9028 - val_loss: 1.5776 - val_accuracy: 0.4054\n",
            "Epoch 7/10\n",
            "24/24 [==============================] - 45s 2s/step - loss: 0.2901 - accuracy: 0.9636 - val_loss: 1.6975 - val_accuracy: 0.4162\n",
            "Epoch 8/10\n",
            "24/24 [==============================] - 46s 2s/step - loss: 0.1654 - accuracy: 0.9906 - val_loss: 1.5296 - val_accuracy: 0.3892\n",
            "Epoch 9/10\n",
            "24/24 [==============================] - 44s 2s/step - loss: 0.1083 - accuracy: 0.9987 - val_loss: 1.7025 - val_accuracy: 0.3838\n",
            "Epoch 10/10\n",
            "24/24 [==============================] - 45s 2s/step - loss: 0.0716 - accuracy: 0.9987 - val_loss: 1.7049 - val_accuracy: 0.3568\n"
          ]
        }
      ]
    },
    {
      "cell_type": "code",
      "source": [
        "model.summary()"
      ],
      "metadata": {
        "colab": {
          "base_uri": "https://localhost:8080/"
        },
        "id": "tF_mPBp55nMP",
        "outputId": "16f570e8-98a9-4af3-8c5a-34b95b0f01f4"
      },
      "execution_count": 30,
      "outputs": [
        {
          "output_type": "stream",
          "name": "stdout",
          "text": [
            "Model: \"sequential\"\n",
            "_________________________________________________________________\n",
            " Layer (type)                Output Shape              Param #   \n",
            "=================================================================\n",
            " rescaling (Rescaling)       (None, 256, 256, 3)       0         \n",
            "                                                                 \n",
            " conv2d (Conv2D)             (None, 256, 256, 16)      448       \n",
            "                                                                 \n",
            " flatten (Flatten)           (None, 1048576)           0         \n",
            "                                                                 \n",
            " dense (Dense)               (None, 128)               134217856 \n",
            "                                                                 \n",
            " dense_1 (Dense)             (None, 5)                 645       \n",
            "                                                                 \n",
            "=================================================================\n",
            "Total params: 134,218,949\n",
            "Trainable params: 134,218,949\n",
            "Non-trainable params: 0\n",
            "_________________________________________________________________\n"
          ]
        }
      ]
    },
    {
      "cell_type": "code",
      "source": [
        "import pandas as pd"
      ],
      "metadata": {
        "id": "kBdpbs9n8NHs"
      },
      "execution_count": 16,
      "outputs": []
    },
    {
      "cell_type": "code",
      "source": [
        "history_df=pd.DataFrame.from_dict(history.history)\n",
        "history_df[['accuracy','val_accuracy']].plot()"
      ],
      "metadata": {
        "colab": {
          "base_uri": "https://localhost:8080/",
          "height": 282
        },
        "id": "g5KlOCAP8SZM",
        "outputId": "fc521690-5323-4ede-a7ab-54788924dba8"
      },
      "execution_count": 33,
      "outputs": [
        {
          "output_type": "execute_result",
          "data": {
            "text/plain": [
              "<matplotlib.axes._subplots.AxesSubplot at 0x7fea1be4ad10>"
            ]
          },
          "metadata": {},
          "execution_count": 33
        },
        {
          "output_type": "display_data",
          "data": {
            "text/plain": [
              "<Figure size 432x288 with 1 Axes>"
            ],
            "image/png": "[encoded data removed]"
          },
          "metadata": {
            "needs_background": "light"
          }
        }
      ]
    },
    {
      "cell_type": "code",
      "source": [
        "def train_model(network, ep=5):\n",
        "  model=Sequential(network)\n",
        "  model.compile(optimizer='adam',loss=tf.keras.losses.CategoricalCrossentropy(from_logits=True),metrics=['accuracy'])\n",
        "  history=model.fit(\n",
        "    train,\n",
        "    validation_data=test,\n",
        "    epochs=ep,\n",
        "    verbose=1)\n",
        "  history_df=pd.DataFrame.from_dict(history.history)\n",
        "  return history_df, model"
      ],
      "metadata": {
        "id": "sNwTtUaG8s1K"
      },
      "execution_count": 17,
      "outputs": []
    },
    {
      "cell_type": "code",
      "source": [
        "network=[\n",
        "                  layers.Rescaling(1./255),\n",
        "                  layers.Conv2D(16,4,strides=(1,1),padding=\"same\",activation='relu',input_shape=(256,256,3)),\n",
        "                  layers.MaxPooling2D(),\n",
        "                  layers.Conv2D(32,4,strides=(1,1),padding=\"same\",activation='relu',input_shape=(256,256,3)),\n",
        "                  layers.MaxPooling2D(),\n",
        "                  layers.Conv2D(64,4,strides=(1,1),padding=\"same\",activation='relu',input_shape=(256,256,3)),\n",
        "                  layers.MaxPooling2D(),\n",
        "                  layers.Dropout(.2),\n",
        "                  layers.Flatten(),\n",
        "                  layers.Dense(128,activation='relu'),\n",
        "                  layers.Dense(len(breeds)),\n",
        "                  \n",
        "]"
      ],
      "metadata": {
        "id": "HS1JvMz89Xbl"
      },
      "execution_count": 18,
      "outputs": []
    },
    {
      "cell_type": "code",
      "source": [
        "history_df, model=train_model(network)"
      ],
      "metadata": {
        "colab": {
          "base_uri": "https://localhost:8080/"
        },
        "id": "i77iNVwE92kD",
        "outputId": "fab8bfce-7f47-4310-cac7-1b163bdec66d"
      },
      "execution_count": 19,
      "outputs": [
        {
          "output_type": "stream",
          "name": "stdout",
          "text": [
            "Epoch 1/5\n",
            "24/24 [==============================] - 78s 3s/step - loss: 1.7915 - accuracy: 0.2119 - val_loss: 1.6062 - val_accuracy: 0.2216\n",
            "Epoch 2/5\n",
            "24/24 [==============================] - 75s 3s/step - loss: 1.5831 - accuracy: 0.2389 - val_loss: 1.5777 - val_accuracy: 0.2324\n",
            "Epoch 3/5\n",
            "24/24 [==============================] - 74s 3s/step - loss: 1.4273 - accuracy: 0.3995 - val_loss: 1.5647 - val_accuracy: 0.3784\n",
            "Epoch 4/5\n",
            "24/24 [==============================] - 75s 3s/step - loss: 1.0720 - accuracy: 0.5857 - val_loss: 1.8670 - val_accuracy: 0.3405\n",
            "Epoch 5/5\n",
            "24/24 [==============================] - 75s 3s/step - loss: 0.6912 - accuracy: 0.7503 - val_loss: 2.0396 - val_accuracy: 0.3243\n"
          ]
        }
      ]
    },
    {
      "cell_type": "code",
      "source": [
        "history_df[['accuracy','val_accuracy']].plot()"
      ],
      "metadata": {
        "colab": {
          "base_uri": "https://localhost:8080/",
          "height": 282
        },
        "id": "ETb4G9zX-j3B",
        "outputId": "9c62bd64-cc65-4253-cb3e-d46523001097"
      },
      "execution_count": 20,
      "outputs": [
        {
          "output_type": "execute_result",
          "data": {
            "text/plain": [
              "<matplotlib.axes._subplots.AxesSubplot at 0x7fca96b73350>"
            ]
          },
          "metadata": {},
          "execution_count": 20
        },
        {
          "output_type": "display_data",
          "data": {
            "text/plain": [
              "<Figure size 432x288 with 1 Axes>"
            ],
            "image/png": "[encoded data removed]"
          },
          "metadata": {
            "needs_background": "light"
          }
        }
      ]
    },
    {
      "cell_type": "code",
      "source": [
        "data_aug=tf.keras.Sequential([\n",
        " layers.RandomFlip('horizontal',seed=71),\n",
        " layers.RandomRotation(.2, seed=71),\n",
        " layers.RandomZoom(.2, seed=71)\n",
        "])"
      ],
      "metadata": {
        "id": "P5sMAGZI_DUU"
      },
      "execution_count": 26,
      "outputs": []
    },
    {
      "cell_type": "code",
      "source": [
        "full_network=[data_aug]+network"
      ],
      "metadata": {
        "id": "qFvtd0BaBsWO"
      },
      "execution_count": 27,
      "outputs": []
    },
    {
      "cell_type": "code",
      "source": [
        "history_df, model=train_model(full_network,10)"
      ],
      "metadata": {
        "colab": {
          "base_uri": "https://localhost:8080/"
        },
        "id": "mEGgiOGKB6tF",
        "outputId": "6541444f-7829-47b6-9f77-0ce026104b6b"
      },
      "execution_count": 28,
      "outputs": [
        {
          "output_type": "stream",
          "name": "stdout",
          "text": [
            "Epoch 1/10\n",
            "24/24 [==============================] - 83s 3s/step - loss: 1.2640 - accuracy: 0.4804 - val_loss: 1.3103 - val_accuracy: 0.4432\n",
            "Epoch 2/10\n",
            "24/24 [==============================] - 82s 3s/step - loss: 1.1989 - accuracy: 0.5223 - val_loss: 1.3599 - val_accuracy: 0.4541\n",
            "Epoch 3/10\n",
            "24/24 [==============================] - 81s 3s/step - loss: 1.1344 - accuracy: 0.5655 - val_loss: 1.4722 - val_accuracy: 0.4757\n",
            "Epoch 4/10\n",
            "24/24 [==============================] - 81s 3s/step - loss: 1.1697 - accuracy: 0.5358 - val_loss: 1.4889 - val_accuracy: 0.4432\n",
            "Epoch 5/10\n",
            "24/24 [==============================] - 80s 3s/step - loss: 1.1067 - accuracy: 0.5587 - val_loss: 1.4138 - val_accuracy: 0.4757\n",
            "Epoch 6/10\n",
            "24/24 [==============================] - 81s 3s/step - loss: 1.1391 - accuracy: 0.5614 - val_loss: 1.3249 - val_accuracy: 0.4649\n",
            "Epoch 7/10\n",
            "24/24 [==============================] - 81s 3s/step - loss: 1.0620 - accuracy: 0.5803 - val_loss: 1.3143 - val_accuracy: 0.4703\n",
            "Epoch 8/10\n",
            "24/24 [==============================] - 81s 3s/step - loss: 1.0573 - accuracy: 0.5870 - val_loss: 1.3040 - val_accuracy: 0.4919\n",
            "Epoch 9/10\n",
            "24/24 [==============================] - 80s 3s/step - loss: 1.0442 - accuracy: 0.5965 - val_loss: 1.4290 - val_accuracy: 0.4757\n",
            "Epoch 10/10\n",
            "24/24 [==============================] - 81s 3s/step - loss: 1.0430 - accuracy: 0.5924 - val_loss: 1.2624 - val_accuracy: 0.5027\n"
          ]
        }
      ]
    },
    {
      "cell_type": "code",
      "source": [
        "history_df[['accuracy','val_accuracy']].plot()"
      ],
      "metadata": {
        "colab": {
          "base_uri": "https://localhost:8080/",
          "height": 282
        },
        "id": "_ZYfIWlyCAtD",
        "outputId": "9e699218-1087-4428-c2a9-a6b1413095b5"
      },
      "execution_count": 29,
      "outputs": [
        {
          "output_type": "execute_result",
          "data": {
            "text/plain": [
              "<matplotlib.axes._subplots.AxesSubplot at 0x7fca97efd410>"
            ]
          },
          "metadata": {},
          "execution_count": 29
        },
        {
          "output_type": "display_data",
          "data": {
            "text/plain": [
              "<Figure size 432x288 with 1 Axes>"
            ],
            "image/png": "[encoded data removed]"
          },
          "metadata": {
            "needs_background": "light"
          }
        }
      ]
    },
    {
      "cell_type": "code",
      "source": [
        "# How to Import an image\n",
        "from google.colab import files\n",
        "import matplotlib.pyplot as plt\n",
        "\n",
        "# Select file from Local Drive\n",
        "uploaded = files.upload()\n",
        "\n",
        "# Convert uploaded image into uint type\n",
        "img = plt.imread('doggo (1).jpg')"
      ],
      "metadata": {
        "colab": {
          "resources": {
            "http://localhost:8080/nbextensions/google.colab/files.js": {
              "data": "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",
              "ok": true,
              "headers": [
                [
                  "content-type",
                  "application/javascript"
                ]
              ],
              "status": 200,
              "status_text": ""
            }
          },
          "base_uri": "https://localhost:8080/",
          "height": 78
        },
        "id": "ii_fl1JzE3M0",
        "outputId": "981cc7c8-13d7-4766-cbde-2ba94343dad4"
      },
      "execution_count": 45,
      "outputs": [
        {
          "output_type": "display_data",
          "data": {
            "text/plain": [
              "<IPython.core.display.HTML object>"
            ],
            "text/html": [
              "\n",
              "     <input type=\"file\" id=\"files-3b9df7b8-a48f-4cb5-9159-accf6fc93626\" name=\"files[]\" multiple disabled\n",
              "        style=\"border:none\" />\n",
              "     <output id=\"result-3b9df7b8-a48f-4cb5-9159-accf6fc93626\">\n",
              "      Upload widget is only available when the cell has been executed in the\n",
              "      current browser session. Please rerun this cell to enable.\n",
              "      </output>\n",
              "      <script src=\"/nbextensions/google.colab/files.js\"></script> "
            ]
          },
          "metadata": {}
        },
        {
          "output_type": "stream",
          "name": "stdout",
          "text": [
            "Saving doggo (1).jpg to doggo (1).jpg\n"
          ]
        }
      ]
    },
    {
      "cell_type": "code",
      "source": [
        "img"
      ],
      "metadata": {
        "colab": {
          "base_uri": "https://localhost:8080/"
        },
        "id": "ooyn-5WwPIdc",
        "outputId": "c842e9ac-23cc-40f5-b6b6-6cf733b4cee3"
      },
      "execution_count": 46,
      "outputs": [
        {
          "output_type": "execute_result",
          "data": {
            "text/plain": [
              "array([[[ 81,  73,  62],\n",
              "        [ 81,  73,  62],\n",
              "        [ 79,  70,  61],\n",
              "        ...,\n",
              "        [ 46,  38,  35],\n",
              "        [ 42,  34,  31],\n",
              "        [ 33,  25,  22]],\n",
              "\n",
              "       [[ 82,  74,  63],\n",
              "        [ 81,  73,  62],\n",
              "        [ 79,  70,  61],\n",
              "        ...,\n",
              "        [ 45,  37,  34],\n",
              "        [ 39,  31,  28],\n",
              "        [ 33,  25,  22]],\n",
              "\n",
              "       [[ 83,  75,  64],\n",
              "        [ 80,  72,  61],\n",
              "        [ 77,  68,  59],\n",
              "        ...,\n",
              "        [ 34,  26,  23],\n",
              "        [ 27,  19,  16],\n",
              "        [ 26,  18,  15]],\n",
              "\n",
              "       ...,\n",
              "\n",
              "       [[231, 212, 195],\n",
              "        [233, 214, 197],\n",
              "        [239, 220, 203],\n",
              "        ...,\n",
              "        [229, 212, 196],\n",
              "        [230, 213, 197],\n",
              "        [227, 210, 194]],\n",
              "\n",
              "       [[231, 212, 195],\n",
              "        [230, 211, 194],\n",
              "        [237, 218, 201],\n",
              "        ...,\n",
              "        [230, 213, 197],\n",
              "        [232, 215, 199],\n",
              "        [233, 216, 200]],\n",
              "\n",
              "       [[230, 211, 194],\n",
              "        [225, 206, 189],\n",
              "        [234, 215, 198],\n",
              "        ...,\n",
              "        [226, 209, 193],\n",
              "        [229, 212, 196],\n",
              "        [233, 216, 200]]], dtype=uint8)"
            ]
          },
          "metadata": {},
          "execution_count": 46
        }
      ]
    },
    {
      "cell_type": "code",
      "source": [
        "import numpy as np\n",
        "img=np.reshape(img,(-1,256,256,3))\n",
        "prediction=model.predict(img)"
      ],
      "metadata": {
        "id": "PIDzDdXBRA1Q"
      },
      "execution_count": 48,
      "outputs": []
    },
    {
      "cell_type": "code",
      "source": [
        "prediction"
      ],
      "metadata": {
        "colab": {
          "base_uri": "https://localhost:8080/"
        },
        "id": "apLLqbF9RJMt",
        "outputId": "a303acc7-032c-4b7c-db6c-e1622483d84b"
      },
      "execution_count": 49,
      "outputs": [
        {
          "output_type": "execute_result",
          "data": {
            "text/plain": [
              "array([[-0.09182937,  2.311064  ,  0.09105541,  0.9797333 ,  3.2207477 ]],\n",
              "      dtype=float32)"
            ]
          },
          "metadata": {},
          "execution_count": 49
        }
      ]
    },
    {
      "cell_type": "code",
      "source": [
        ""
      ],
      "metadata": {
        "id": "gCGGZKm-2Hha"
      },
      "execution_count": null,
      "outputs": []
    }
  ]
}